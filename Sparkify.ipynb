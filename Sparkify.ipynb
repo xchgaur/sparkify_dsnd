{
 "cells": [
  {
   "cell_type": "markdown",
   "metadata": {},
   "source": [
    "# Sparkify Project Workspace\n",
    "This workspace contains a tiny subset (128MB) of the full dataset available (12GB). Feel free to use this workspace to build your project, or to explore a smaller subset with Spark before deploying your cluster on the cloud. Instructions for setting up your Spark cluster is included in the last lesson of the Extracurricular Spark Course content.\n",
    "\n",
    "You can follow the steps below to guide your data analysis and model building portion of this project."
   ]
  },
  {
   "cell_type": "markdown",
   "metadata": {},
   "source": [
    "# Overview\n",
    "\n",
    "The data provided for this project is for a music streaming service named sparkify. The data is the user log of the service, having info like  user pages accessed, timestamps, songs listened . \n",
    "\n",
    "Our task is to analyze the data and build a model which can identify users who are highly likely to move away from the service(churn). These insights cna then be used  to devise retention strategies for churning users.\n",
    "\n",
    "We will clean the data, and explore the data aided with visualizations to see the trends which can highlight features to segregate churning and non-churning users. \n",
    "\n",
    "\n",
    "\n"
   ]
  },
  {
   "cell_type": "markdown",
   "metadata": {},
   "source": [
    "# Strategy\n",
    "\n",
    "We will use pyspark to work with this problem as the original dataset here are of large size 12G. One of the drving force to us e pyspark is that the project aims at building the ability to efficiently manipulate large datasets with Spark.\n",
    "\n",
    "The ideal platform is to use AWS/IBM cloud spark cluster. However in the interest of time and money I ahve focussed to use this workspace here and then leverage the workbook to use in spark cluster later on. \n",
    "\n",
    "For this workspace we are going to use subset of the original data provided:\n",
    "\n",
    "mini_sparkify_event_data.json\n",
    "\n",
    "\n",
    "\n"
   ]
  },
  {
   "cell_type": "markdown",
   "metadata": {},
   "source": [
    "# Metric\n",
    "\n",
    "We will use F1 score here as we have an unbalanced data set and we have to keep a check on both false postive and false negative as both can impact revenue."
   ]
  },
  {
   "cell_type": "code",
   "execution_count": 1,
   "metadata": {},
   "outputs": [],
   "source": [
    "# import libraries\n",
    "#!conda remove -y numpy\n",
    "#!conda install -y -c anaconda numpy\n",
    "#!conda install -y  -c anaconda matplotlib\n",
    "#!conda install -y  -c anaconda seaborn=0.9.0\n",
    "\n",
    "import numpy as np\n",
    "from pyspark.sql import SparkSession\n",
    "import pyspark.sql.functions as sf\n",
    "import pyspark.sql.types as st\n",
    "from pyspark.sql.functions import col, lit, udf, isnan, count, when, desc, sort_array, asc, avg, lag, floor\n",
    "\n",
    "from matplotlib import pyplot as plt\n",
    "import seaborn as sns\n",
    "sns.set_style('whitegrid')\n",
    "\n",
    "from pyspark.sql.types import IntegerType, DateType\n",
    "\n",
    "from pyspark.sql.functions import sum as Fsum\n",
    "from pyspark.ml.feature import VectorAssembler\n",
    "from pyspark.ml.feature import Normalizer, MinMaxScaler #used because won't distort binary vars\n",
    "from pyspark.sql.types import DoubleType\n",
    "from pyspark.ml.tuning import CrossValidator, ParamGridBuilder\n",
    "from pyspark.ml.evaluation import MulticlassClassificationEvaluator\n",
    "import datetime\n",
    "\n",
    "from pyspark.ml.classification import LogisticRegression, RandomForestClassifier, LinearSVC, GBTClassifier\n",
    "import time\n",
    "\n"
   ]
  },
  {
   "cell_type": "code",
   "execution_count": 2,
   "metadata": {},
   "outputs": [
    {
     "name": "stdout",
     "output_type": "stream",
     "text": [
      "+----------------+---------+---------+------+-------------+--------+---------+-----+--------------------+------+--------+-------------+---------+-----------------+------+-------------+--------------------+------+\n",
      "|          artist|     auth|firstName|gender|itemInSession|lastName|   length|level|            location|method|    page| registration|sessionId|             song|status|           ts|           userAgent|userId|\n",
      "+----------------+---------+---------+------+-------------+--------+---------+-----+--------------------+------+--------+-------------+---------+-----------------+------+-------------+--------------------+------+\n",
      "|  Martha Tilston|Logged In|    Colin|     M|           50| Freeman|277.89016| paid|     Bakersfield, CA|   PUT|NextSong|1538173362000|       29|        Rockpools|   200|1538352117000|Mozilla/5.0 (Wind...|    30|\n",
      "|Five Iron Frenzy|Logged In|    Micah|     M|           79|    Long|236.09424| free|Boston-Cambridge-...|   PUT|NextSong|1538331630000|        8|           Canada|   200|1538352180000|\"Mozilla/5.0 (Win...|     9|\n",
      "|    Adam Lambert|Logged In|    Colin|     M|           51| Freeman| 282.8273| paid|     Bakersfield, CA|   PUT|NextSong|1538173362000|       29|Time For Miracles|   200|1538352394000|Mozilla/5.0 (Wind...|    30|\n",
      "+----------------+---------+---------+------+-------------+--------+---------+-----+--------------------+------+--------+-------------+---------+-----------------+------+-------------+--------------------+------+\n",
      "only showing top 3 rows\n",
      "\n"
     ]
    }
   ],
   "source": [
    "# create a Spark session\n",
    "spark = SparkSession.builder \\\n",
    "    .master(\"local\") \\\n",
    "    .appName(\"Identify Features\") \\\n",
    "    .getOrCreate()\n",
    "\n",
    "df = spark.read.json('mini_sparkify_event_data.json')\n",
    "df.persist()\n",
    "df.show(3)"
   ]
  },
  {
   "cell_type": "code",
   "execution_count": 3,
   "metadata": {},
   "outputs": [
    {
     "data": {
      "text/plain": [
       "286500"
      ]
     },
     "execution_count": 3,
     "metadata": {},
     "output_type": "execute_result"
    }
   ],
   "source": [
    "df.count()"
   ]
  },
  {
   "cell_type": "code",
   "execution_count": 4,
   "metadata": {},
   "outputs": [
    {
     "name": "stdout",
     "output_type": "stream",
     "text": [
      "root\n",
      " |-- artist: string (nullable = true)\n",
      " |-- auth: string (nullable = true)\n",
      " |-- firstName: string (nullable = true)\n",
      " |-- gender: string (nullable = true)\n",
      " |-- itemInSession: long (nullable = true)\n",
      " |-- lastName: string (nullable = true)\n",
      " |-- length: double (nullable = true)\n",
      " |-- level: string (nullable = true)\n",
      " |-- location: string (nullable = true)\n",
      " |-- method: string (nullable = true)\n",
      " |-- page: string (nullable = true)\n",
      " |-- registration: long (nullable = true)\n",
      " |-- sessionId: long (nullable = true)\n",
      " |-- song: string (nullable = true)\n",
      " |-- status: long (nullable = true)\n",
      " |-- ts: long (nullable = true)\n",
      " |-- userAgent: string (nullable = true)\n",
      " |-- userId: string (nullable = true)\n",
      "\n"
     ]
    }
   ],
   "source": [
    "df.printSchema()"
   ]
  },
  {
   "cell_type": "markdown",
   "metadata": {},
   "source": [
    "# Load and Clean Dataset\n",
    "In this workspace, the mini-dataset file is `mini_sparkify_event_data.json`. Load and clean the dataset, checking for invalid or missing data - for example, records without userids or sessionids. "
   ]
  },
  {
   "cell_type": "code",
   "execution_count": 5,
   "metadata": {},
   "outputs": [
    {
     "name": "stdout",
     "output_type": "stream",
     "text": [
      "+------+----+---------+------+-------------+--------+------+-----+--------+------+----+------------+---------+-----+------+---+---------+------+\n",
      "|artist|auth|firstName|gender|itemInSession|lastName|length|level|location|method|page|registration|sessionId| song|status| ts|userAgent|userId|\n",
      "+------+----+---------+------+-------------+--------+------+-----+--------+------+----+------------+---------+-----+------+---+---------+------+\n",
      "| 58392|   0|     8346|  8346|            0|    8346| 58392|    0|    8346|     0|   0|        8346|        0|58392|     0|  0|     8346|     0|\n",
      "+------+----+---------+------+-------------+--------+------+-----+--------+------+----+------------+---------+-----+------+---+---------+------+\n",
      "\n"
     ]
    }
   ],
   "source": [
    "df_nulls = df.select([sf.count(sf.when(sf.isnull(c), c)).alias(c) for c in df.columns])\n",
    "df_nulls.show()"
   ]
  },
  {
   "cell_type": "code",
   "execution_count": 6,
   "metadata": {},
   "outputs": [
    {
     "name": "stdout",
     "output_type": "stream",
     "text": [
      "+------+\n",
      "|userId|\n",
      "+------+\n",
      "|      |\n",
      "+------+\n",
      "\n"
     ]
    }
   ],
   "source": [
    "df.filter(df.registration.isNull()).select(\"userId\").distinct().show()"
   ]
  },
  {
   "cell_type": "code",
   "execution_count": 7,
   "metadata": {},
   "outputs": [
    {
     "name": "stdout",
     "output_type": "stream",
     "text": [
      "+------+----------+---------+------+-------------+--------+------+-----+--------+------+----+------------+---------+----+------+-------------+---------+------+\n",
      "|artist|      auth|firstName|gender|itemInSession|lastName|length|level|location|method|page|registration|sessionId|song|status|           ts|userAgent|userId|\n",
      "+------+----------+---------+------+-------------+--------+------+-----+--------+------+----+------------+---------+----+------+-------------+---------+------+\n",
      "|  null|Logged Out|     null|  null|          100|    null|  null| free|    null|   GET|Home|        null|        8|null|   200|1538355745000|     null|      |\n",
      "|  null|Logged Out|     null|  null|          101|    null|  null| free|    null|   GET|Help|        null|        8|null|   200|1538355807000|     null|      |\n",
      "|  null|Logged Out|     null|  null|          102|    null|  null| free|    null|   GET|Home|        null|        8|null|   200|1538355841000|     null|      |\n",
      "+------+----------+---------+------+-------------+--------+------+-----+--------+------+----+------------+---------+----+------+-------------+---------+------+\n",
      "only showing top 3 rows\n",
      "\n"
     ]
    }
   ],
   "source": [
    "df.filter(df.registration.isNull()).show(3)"
   ]
  },
  {
   "cell_type": "code",
   "execution_count": 8,
   "metadata": {},
   "outputs": [
    {
     "name": "stdout",
     "output_type": "stream",
     "text": [
      "+------+----------+---------+------+-------------+--------+------+-----+--------+------+----+------------+---------+----+------+-------------+---------+------+\n",
      "|artist|      auth|firstName|gender|itemInSession|lastName|length|level|location|method|page|registration|sessionId|song|status|           ts|userAgent|userId|\n",
      "+------+----------+---------+------+-------------+--------+------+-----+--------+------+----+------------+---------+----+------+-------------+---------+------+\n",
      "|  null|Logged Out|     null|  null|          100|    null|  null| free|    null|   GET|Home|        null|        8|null|   200|1538355745000|     null|      |\n",
      "|  null|Logged Out|     null|  null|          101|    null|  null| free|    null|   GET|Help|        null|        8|null|   200|1538355807000|     null|      |\n",
      "|  null|Logged Out|     null|  null|          102|    null|  null| free|    null|   GET|Home|        null|        8|null|   200|1538355841000|     null|      |\n",
      "+------+----------+---------+------+-------------+--------+------+-----+--------+------+----+------------+---------+----+------+-------------+---------+------+\n",
      "only showing top 3 rows\n",
      "\n"
     ]
    }
   ],
   "source": [
    "df.filter(df.userId == \"\").show(3)"
   ]
  },
  {
   "cell_type": "code",
   "execution_count": 9,
   "metadata": {},
   "outputs": [
    {
     "data": {
      "text/plain": [
       "8346"
      ]
     },
     "execution_count": 9,
     "metadata": {},
     "output_type": "execute_result"
    }
   ],
   "source": [
    "df.filter(df.userId == \"\").count()"
   ]
  },
  {
   "cell_type": "markdown",
   "metadata": {},
   "source": [
    "It seems that the daat where user id is blank , we also get null registration value.We can discard these values."
   ]
  },
  {
   "cell_type": "code",
   "execution_count": 10,
   "metadata": {},
   "outputs": [
    {
     "data": {
      "text/plain": [
       "278154"
      ]
     },
     "execution_count": 10,
     "metadata": {},
     "output_type": "execute_result"
    }
   ],
   "source": [
    "df = df.filter(df.userId != \"\")\n",
    "df.count()"
   ]
  },
  {
   "cell_type": "code",
   "execution_count": 11,
   "metadata": {},
   "outputs": [
    {
     "data": {
      "text/plain": [
       "278154"
      ]
     },
     "execution_count": 11,
     "metadata": {},
     "output_type": "execute_result"
    }
   ],
   "source": [
    "df = df.dropna(how =\"any\", subset =[\"userId\", \"sessionId\"])\n",
    "df.count()"
   ]
  },
  {
   "cell_type": "markdown",
   "metadata": {},
   "source": [
    "# Exploratory Data Analysis\n",
    "When you're working with the full dataset, perform EDA by loading a small subset of the data and doing basic manipulations within Spark. In this workspace, you are already provided a small subset of data you can explore.\n",
    "\n"
   ]
  },
  {
   "cell_type": "code",
   "execution_count": 12,
   "metadata": {},
   "outputs": [
    {
     "name": "stdout",
     "output_type": "stream",
     "text": [
      "+--------------------+\n",
      "|                page|\n",
      "+--------------------+\n",
      "|              Cancel|\n",
      "|    Submit Downgrade|\n",
      "|         Thumbs Down|\n",
      "|                Home|\n",
      "|           Downgrade|\n",
      "|         Roll Advert|\n",
      "|              Logout|\n",
      "|       Save Settings|\n",
      "|Cancellation Conf...|\n",
      "|               About|\n",
      "|            Settings|\n",
      "|     Add to Playlist|\n",
      "|          Add Friend|\n",
      "|            NextSong|\n",
      "|           Thumbs Up|\n",
      "|                Help|\n",
      "|             Upgrade|\n",
      "|               Error|\n",
      "|      Submit Upgrade|\n",
      "+--------------------+\n",
      "\n"
     ]
    }
   ],
   "source": [
    "df.select('page').distinct().show()"
   ]
  },
  {
   "cell_type": "code",
   "execution_count": 13,
   "metadata": {},
   "outputs": [
    {
     "data": {
      "text/plain": [
       "[Row(page='Cancel'),\n",
       " Row(page='Submit Downgrade'),\n",
       " Row(page='Thumbs Down'),\n",
       " Row(page='Home'),\n",
       " Row(page='Downgrade'),\n",
       " Row(page='Roll Advert'),\n",
       " Row(page='Logout'),\n",
       " Row(page='Save Settings'),\n",
       " Row(page='Cancellation Confirmation'),\n",
       " Row(page='About'),\n",
       " Row(page='Settings'),\n",
       " Row(page='Add to Playlist'),\n",
       " Row(page='Add Friend'),\n",
       " Row(page='NextSong'),\n",
       " Row(page='Thumbs Up'),\n",
       " Row(page='Help'),\n",
       " Row(page='Upgrade'),\n",
       " Row(page='Error'),\n",
       " Row(page='Submit Upgrade')]"
      ]
     },
     "execution_count": 13,
     "metadata": {},
     "output_type": "execute_result"
    }
   ],
   "source": [
    "distinct_pages = df.select('page').distinct().collect()\n",
    "distinct_pages"
   ]
  },
  {
   "cell_type": "code",
   "execution_count": 14,
   "metadata": {},
   "outputs": [
    {
     "data": {
      "text/plain": [
       "['Cancel',\n",
       " 'Submit Downgrade',\n",
       " 'Thumbs Down',\n",
       " 'Home',\n",
       " 'Downgrade',\n",
       " 'Roll Advert',\n",
       " 'Logout',\n",
       " 'Save Settings',\n",
       " 'Cancellation Confirmation',\n",
       " 'About',\n",
       " 'Settings',\n",
       " 'Add to Playlist',\n",
       " 'Add Friend',\n",
       " 'NextSong',\n",
       " 'Thumbs Up',\n",
       " 'Help',\n",
       " 'Upgrade',\n",
       " 'Error',\n",
       " 'Submit Upgrade']"
      ]
     },
     "execution_count": 14,
     "metadata": {},
     "output_type": "execute_result"
    }
   ],
   "source": [
    "distinct_pages = [row['page'] for row in distinct_pages]\n",
    "distinct_pages"
   ]
  },
  {
   "cell_type": "code",
   "execution_count": 15,
   "metadata": {},
   "outputs": [
    {
     "data": {
      "text/plain": [
       "225"
      ]
     },
     "execution_count": 15,
     "metadata": {},
     "output_type": "execute_result"
    }
   ],
   "source": [
    "df.select(\"userId\").distinct().count()"
   ]
  },
  {
   "cell_type": "code",
   "execution_count": 16,
   "metadata": {},
   "outputs": [
    {
     "data": {
      "text/plain": [
       "52"
      ]
     },
     "execution_count": 16,
     "metadata": {},
     "output_type": "execute_result"
    }
   ],
   "source": [
    "df.filter(df.page==\"Cancellation Confirmation\").select(\"userId\").distinct().count()"
   ]
  },
  {
   "cell_type": "code",
   "execution_count": 17,
   "metadata": {},
   "outputs": [
    {
     "name": "stdout",
     "output_type": "stream",
     "text": [
      "+----------------------+-------------------------+\n",
      "|count(DISTINCT userId)|count(DISTINCT sessionId)|\n",
      "+----------------------+-------------------------+\n",
      "|                   225|                     2312|\n",
      "+----------------------+-------------------------+\n",
      "\n"
     ]
    }
   ],
   "source": [
    "df.agg(sf.countDistinct('userId'), sf.countDistinct('sessionId')).show()"
   ]
  },
  {
   "cell_type": "code",
   "execution_count": 18,
   "metadata": {},
   "outputs": [
    {
     "data": {
      "text/html": [
       "<div>\n",
       "<style scoped>\n",
       "    .dataframe tbody tr th:only-of-type {\n",
       "        vertical-align: middle;\n",
       "    }\n",
       "\n",
       "    .dataframe tbody tr th {\n",
       "        vertical-align: top;\n",
       "    }\n",
       "\n",
       "    .dataframe thead th {\n",
       "        text-align: right;\n",
       "    }\n",
       "</style>\n",
       "<table border=\"1\" class=\"dataframe\">\n",
       "  <thead>\n",
       "    <tr style=\"text-align: right;\">\n",
       "      <th></th>\n",
       "      <th>count</th>\n",
       "    </tr>\n",
       "    <tr>\n",
       "      <th>page</th>\n",
       "      <th></th>\n",
       "    </tr>\n",
       "  </thead>\n",
       "  <tbody>\n",
       "    <tr>\n",
       "      <th>NextSong</th>\n",
       "      <td>228108</td>\n",
       "    </tr>\n",
       "    <tr>\n",
       "      <th>Thumbs Up</th>\n",
       "      <td>12551</td>\n",
       "    </tr>\n",
       "    <tr>\n",
       "      <th>Home</th>\n",
       "      <td>10082</td>\n",
       "    </tr>\n",
       "    <tr>\n",
       "      <th>Add to Playlist</th>\n",
       "      <td>6526</td>\n",
       "    </tr>\n",
       "    <tr>\n",
       "      <th>Add Friend</th>\n",
       "      <td>4277</td>\n",
       "    </tr>\n",
       "    <tr>\n",
       "      <th>Roll Advert</th>\n",
       "      <td>3933</td>\n",
       "    </tr>\n",
       "    <tr>\n",
       "      <th>Logout</th>\n",
       "      <td>3226</td>\n",
       "    </tr>\n",
       "    <tr>\n",
       "      <th>Thumbs Down</th>\n",
       "      <td>2546</td>\n",
       "    </tr>\n",
       "    <tr>\n",
       "      <th>Downgrade</th>\n",
       "      <td>2055</td>\n",
       "    </tr>\n",
       "    <tr>\n",
       "      <th>Settings</th>\n",
       "      <td>1514</td>\n",
       "    </tr>\n",
       "    <tr>\n",
       "      <th>Help</th>\n",
       "      <td>1454</td>\n",
       "    </tr>\n",
       "    <tr>\n",
       "      <th>Upgrade</th>\n",
       "      <td>499</td>\n",
       "    </tr>\n",
       "    <tr>\n",
       "      <th>About</th>\n",
       "      <td>495</td>\n",
       "    </tr>\n",
       "    <tr>\n",
       "      <th>Save Settings</th>\n",
       "      <td>310</td>\n",
       "    </tr>\n",
       "    <tr>\n",
       "      <th>Error</th>\n",
       "      <td>252</td>\n",
       "    </tr>\n",
       "    <tr>\n",
       "      <th>Submit Upgrade</th>\n",
       "      <td>159</td>\n",
       "    </tr>\n",
       "    <tr>\n",
       "      <th>Submit Downgrade</th>\n",
       "      <td>63</td>\n",
       "    </tr>\n",
       "    <tr>\n",
       "      <th>Cancel</th>\n",
       "      <td>52</td>\n",
       "    </tr>\n",
       "    <tr>\n",
       "      <th>Cancellation Confirmation</th>\n",
       "      <td>52</td>\n",
       "    </tr>\n",
       "  </tbody>\n",
       "</table>\n",
       "</div>"
      ],
      "text/plain": [
       "                            count\n",
       "page                             \n",
       "NextSong                   228108\n",
       "Thumbs Up                   12551\n",
       "Home                        10082\n",
       "Add to Playlist              6526\n",
       "Add Friend                   4277\n",
       "Roll Advert                  3933\n",
       "Logout                       3226\n",
       "Thumbs Down                  2546\n",
       "Downgrade                    2055\n",
       "Settings                     1514\n",
       "Help                         1454\n",
       "Upgrade                       499\n",
       "About                         495\n",
       "Save Settings                 310\n",
       "Error                         252\n",
       "Submit Upgrade                159\n",
       "Submit Downgrade               63\n",
       "Cancel                         52\n",
       "Cancellation Confirmation      52"
      ]
     },
     "execution_count": 18,
     "metadata": {},
     "output_type": "execute_result"
    }
   ],
   "source": [
    "event_counts = df.groupby('page').count().sort('count', ascending=False).toPandas().set_index('page')\n",
    "event_counts"
   ]
  },
  {
   "cell_type": "markdown",
   "metadata": {},
   "source": [
    "As expected the NextSong page is the most frequent and the Downgrade, Cancellation Confirmation,Register pages happen less frequently."
   ]
  },
  {
   "cell_type": "code",
   "execution_count": 19,
   "metadata": {},
   "outputs": [
    {
     "name": "stdout",
     "output_type": "stream",
     "text": [
      "+-----+\n",
      "|level|\n",
      "+-----+\n",
      "| free|\n",
      "| paid|\n",
      "+-----+\n",
      "\n"
     ]
    }
   ],
   "source": [
    "df.filter(df.page==\"Cancellation Confirmation\").select(\"level\").distinct().show()"
   ]
  },
  {
   "cell_type": "code",
   "execution_count": 20,
   "metadata": {},
   "outputs": [
    {
     "name": "stdout",
     "output_type": "stream",
     "text": [
      "+-------------+-------------------+-------------+-------------------+\n",
      "|           ts|          timestamp| registration|    registration_ts|\n",
      "+-------------+-------------------+-------------+-------------------+\n",
      "|1538352117000|2018-10-01 00:01:57|1538173362000|2018-09-28 22:22:42|\n",
      "|1538352180000|2018-10-01 00:03:00|1538331630000|2018-09-30 18:20:30|\n",
      "|1538352394000|2018-10-01 00:06:34|1538173362000|2018-09-28 22:22:42|\n",
      "|1538352416000|2018-10-01 00:06:56|1538331630000|2018-09-30 18:20:30|\n",
      "|1538352676000|2018-10-01 00:11:16|1538173362000|2018-09-28 22:22:42|\n",
      "+-------------+-------------------+-------------+-------------------+\n",
      "only showing top 5 rows\n",
      "\n"
     ]
    }
   ],
   "source": [
    "def convert_ms(x):\n",
    "    \"\"\"Converts given ns to ms\"\"\"\n",
    "    if x is None:\n",
    "        return None\n",
    "    \n",
    "    return x//1000\n",
    "\n",
    "convert_ms_udf = sf.udf(convert_ms, st.LongType())\n",
    "\n",
    "df = df.withColumn('timestamp', convert_ms_udf(df.ts).cast('timestamp'))\n",
    "df = df.withColumn('registration_ts', convert_ms_udf(df.registration).cast('timestamp'))\n",
    "\n",
    "df.select('ts', 'timestamp', 'registration', 'registration_ts').show(5)"
   ]
  },
  {
   "cell_type": "code",
   "execution_count": 21,
   "metadata": {},
   "outputs": [
    {
     "name": "stdout",
     "output_type": "stream",
     "text": [
      "+------+---------+---------+------+-------------+--------+------+-----+--------------------+------+--------------------+-------------+---------+----+------+-------------+--------------------+------+-------------------+-------------------+\n",
      "|artist|     auth|firstName|gender|itemInSession|lastName|length|level|            location|method|                page| registration|sessionId|song|status|           ts|           userAgent|userId|          timestamp|    registration_ts|\n",
      "+------+---------+---------+------+-------------+--------+------+-----+--------------------+------+--------------------+-------------+---------+----+------+-------------+--------------------+------+-------------------+-------------------+\n",
      "|  null|Cancelled|   Adriel|     M|          104| Mendoza|  null| paid|  Kansas City, MO-KS|   GET|Cancellation Conf...|1535623466000|      514|null|   200|1538943990000|\"Mozilla/5.0 (Mac...|    18|2018-10-07 20:26:30|2018-08-30 10:04:26|\n",
      "|  null|Cancelled|    Diego|     M|           56|   Mckee|  null| paid|Phoenix-Mesa-Scot...|   GET|Cancellation Conf...|1537167593000|      540|null|   200|1539033046000|\"Mozilla/5.0 (iPh...|    32|2018-10-08 21:10:46|2018-09-17 06:59:53|\n",
      "|  null|Cancelled|    Mason|     M|           10|    Hart|  null| free|  Corpus Christi, TX|   GET|Cancellation Conf...|1533157139000|      174|null|   200|1539318918000|\"Mozilla/5.0 (Mac...|   125|2018-10-12 04:35:18|2018-08-01 20:58:59|\n",
      "|  null|Cancelled|Alexander|     M|          332|  Garcia|  null| paid|Indianapolis-Carm...|   GET|Cancellation Conf...|1536817381000|      508|null|   200|1539375441000|Mozilla/5.0 (Wind...|   105|2018-10-12 20:17:21|2018-09-13 05:43:01|\n",
      "|  null|Cancelled|    Kayla|     F|          273| Johnson|  null| paid|Philadelphia-Camd...|   GET|Cancellation Conf...|1538333829000|      797|null|   200|1539465584000|Mozilla/5.0 (Wind...|    17|2018-10-13 21:19:44|2018-09-30 18:57:09|\n",
      "+------+---------+---------+------+-------------+--------+------+-----+--------------------+------+--------------------+-------------+---------+----+------+-------------+--------------------+------+-------------------+-------------------+\n",
      "only showing top 5 rows\n",
      "\n"
     ]
    }
   ],
   "source": [
    "df.where(df.page=='Cancellation Confirmation').show(5)"
   ]
  },
  {
   "cell_type": "code",
   "execution_count": 22,
   "metadata": {},
   "outputs": [
    {
     "name": "stdout",
     "output_type": "stream",
     "text": [
      "+-------------------+-------------------+\n",
      "|     min(timestamp)|     max(timestamp)|\n",
      "+-------------------+-------------------+\n",
      "|2018-10-01 00:01:57|2018-12-03 01:11:16|\n",
      "+-------------------+-------------------+\n",
      "\n",
      "+--------------------+--------------------+\n",
      "|min(registration_ts)|max(registration_ts)|\n",
      "+--------------------+--------------------+\n",
      "| 2018-03-18 13:44:35| 2018-11-26 15:49:14|\n",
      "+--------------------+--------------------+\n",
      "\n"
     ]
    }
   ],
   "source": [
    "df.agg(sf.min('timestamp'), sf.max('timestamp')).show()\n",
    "df.agg(sf.min('registration_ts'), sf.max('registration_ts')).show()"
   ]
  },
  {
   "cell_type": "code",
   "execution_count": 23,
   "metadata": {},
   "outputs": [],
   "source": [
    "def plot_value_count(df, column, page=None):\n",
    "    \"\"\"\n",
    "    Plots the distribution of a given column\n",
    "    \n",
    "    Arguments:\n",
    "        df : input dataframe\n",
    "        column : The column to plot the distribution \n",
    "        page (str): Optional, limits the distribution to a single page\n",
    "    \"\"\"\n",
    "    if page is not None:\n",
    "        plot_df = df.where(df.page==page)\n",
    "    else:\n",
    "        plot_df = df\n",
    "    \n",
    "    values = plot_df.groupby(column).count().toPandas()\n",
    "    \n",
    "    sns.distplot(values['count'], \n",
    "                 kde=False, \n",
    "                 bins=20)\n",
    "    \n"
   ]
  },
  {
   "cell_type": "code",
   "execution_count": 24,
   "metadata": {},
   "outputs": [
    {
     "data": {
      "image/png": "[encoded data removed]",
      "text/plain": [
       "<matplotlib.figure.Figure at 0x7fac6d346320>"
      ]
     },
     "metadata": {
      "needs_background": "light"
     },
     "output_type": "display_data"
    }
   ],
   "source": [
    "plt.figure(figsize=(8,6))\n",
    "plot_value_count(df, 'userId')"
   ]
  },
  {
   "cell_type": "markdown",
   "metadata": {},
   "source": [
    "### Define Churn\n",
    "\n",
    "Once you've done some preliminary analysis, create a column `Churn` to use as the label for your model. I suggest using the `Cancellation Confirmation` events to define your churn, which happen for both paid and free users. As a bonus task, you can also look into the `Downgrade` events.\n",
    "\n",
    "### Explore Data\n",
    "Once you've defined churn, perform some exploratory data analysis to observe the behavior for users who stayed vs users who churned. You can start by exploring aggregates on these two groups of users, observing how much of a specific action they experienced per a certain time unit or number of songs played."
   ]
  },
  {
   "cell_type": "code",
   "execution_count": 25,
   "metadata": {},
   "outputs": [
    {
     "name": "stdout",
     "output_type": "stream",
     "text": [
      "+--------------------+-------------------+------+---------+-----+-------------------+\n",
      "|                page|          timestamp|userId|sessionId|level|    registration_ts|\n",
      "+--------------------+-------------------+------+---------+-----+-------------------+\n",
      "|Cancellation Conf...|2018-10-07 20:26:30|    18|      514| paid|2018-08-30 10:04:26|\n",
      "|Cancellation Conf...|2018-10-08 21:10:46|    32|      540| paid|2018-09-17 06:59:53|\n",
      "|Cancellation Conf...|2018-10-12 04:35:18|   125|      174| free|2018-08-01 20:58:59|\n",
      "|Cancellation Conf...|2018-10-12 20:17:21|   105|      508| paid|2018-09-13 05:43:01|\n",
      "|Cancellation Conf...|2018-10-13 21:19:44|    17|      797| paid|2018-09-30 18:57:09|\n",
      "|Cancellation Conf...|2018-10-15 07:34:14|   143|      843| free|2018-08-14 13:58:33|\n",
      "|Cancellation Conf...|2018-10-16 22:30:37|   101|      842| paid|2018-08-23 23:19:40|\n",
      "|Cancellation Conf...|2018-10-17 00:29:21|   129|      802| paid|2018-09-30 06:42:56|\n",
      "|Cancellation Conf...|2018-10-17 07:02:29|   121|      881| paid|2018-06-07 20:35:13|\n",
      "|Cancellation Conf...|2018-10-17 07:39:32|    51|      934| paid|2018-09-27 20:43:07|\n",
      "+--------------------+-------------------+------+---------+-----+-------------------+\n",
      "only showing top 10 rows\n",
      "\n"
     ]
    }
   ],
   "source": [
    "df.where(df.page=='Cancellation Confirmation').select(['page', 'timestamp', 'userId', 'sessionId', 'level', 'registration_ts']).show(10)"
   ]
  },
  {
   "cell_type": "code",
   "execution_count": 26,
   "metadata": {},
   "outputs": [
    {
     "name": "stdout",
     "output_type": "stream",
     "text": [
      "+-------------------+--------------------+---------+-----+-------------------+\n",
      "|          timestamp|                page|sessionId|level|    registration_ts|\n",
      "+-------------------+--------------------+---------+-----+-------------------+\n",
      "|2018-10-08 19:13:53|            NextSong|      540| paid|2018-09-17 06:59:53|\n",
      "|2018-10-08 19:16:54|            NextSong|      540| paid|2018-09-17 06:59:53|\n",
      "|2018-10-08 19:21:23|            NextSong|      540| paid|2018-09-17 06:59:53|\n",
      "|2018-10-08 19:24:48|            NextSong|      540| paid|2018-09-17 06:59:53|\n",
      "|2018-10-08 19:28:26|            NextSong|      540| paid|2018-09-17 06:59:53|\n",
      "|2018-10-08 19:33:22|            NextSong|      540| paid|2018-09-17 06:59:53|\n",
      "|2018-10-08 19:37:28|            NextSong|      540| paid|2018-09-17 06:59:53|\n",
      "|2018-10-08 19:40:52|            NextSong|      540| paid|2018-09-17 06:59:53|\n",
      "|2018-10-08 19:46:49|            NextSong|      540| paid|2018-09-17 06:59:53|\n",
      "|2018-10-08 19:52:31|            NextSong|      540| paid|2018-09-17 06:59:53|\n",
      "|2018-10-08 19:52:32|           Thumbs Up|      540| paid|2018-09-17 06:59:53|\n",
      "|2018-10-08 19:56:15|            NextSong|      540| paid|2018-09-17 06:59:53|\n",
      "|2018-10-08 19:59:54|            NextSong|      540| paid|2018-09-17 06:59:53|\n",
      "|2018-10-08 20:02:15|            NextSong|      540| paid|2018-09-17 06:59:53|\n",
      "|2018-10-08 20:02:16|         Thumbs Down|      540| paid|2018-09-17 06:59:53|\n",
      "|2018-10-08 20:05:06|            NextSong|      540| paid|2018-09-17 06:59:53|\n",
      "|2018-10-08 20:07:46|     Add to Playlist|      540| paid|2018-09-17 06:59:53|\n",
      "|2018-10-08 20:08:35|            NextSong|      540| paid|2018-09-17 06:59:53|\n",
      "|2018-10-08 20:16:10|            NextSong|      540| paid|2018-09-17 06:59:53|\n",
      "|2018-10-08 20:19:25|            NextSong|      540| paid|2018-09-17 06:59:53|\n",
      "|2018-10-08 20:19:26|           Thumbs Up|      540| paid|2018-09-17 06:59:53|\n",
      "|2018-10-08 20:22:19|     Add to Playlist|      540| paid|2018-09-17 06:59:53|\n",
      "|2018-10-08 20:22:54|            NextSong|      540| paid|2018-09-17 06:59:53|\n",
      "|2018-10-08 20:25:02|           Downgrade|      540| paid|2018-09-17 06:59:53|\n",
      "|2018-10-08 20:29:35|                Home|      540| paid|2018-09-17 06:59:53|\n",
      "|2018-10-08 20:30:23|            NextSong|      540| paid|2018-09-17 06:59:53|\n",
      "|2018-10-08 20:35:42|            NextSong|      540| paid|2018-09-17 06:59:53|\n",
      "|2018-10-08 20:39:12|     Add to Playlist|      540| paid|2018-09-17 06:59:53|\n",
      "|2018-10-08 20:39:39|            NextSong|      540| paid|2018-09-17 06:59:53|\n",
      "|2018-10-08 20:43:46|            NextSong|      540| paid|2018-09-17 06:59:53|\n",
      "|2018-10-08 20:47:41|            NextSong|      540| paid|2018-09-17 06:59:53|\n",
      "|2018-10-08 20:51:27|            NextSong|      540| paid|2018-09-17 06:59:53|\n",
      "|2018-10-08 20:57:15|            NextSong|      540| paid|2018-09-17 06:59:53|\n",
      "|2018-10-08 21:03:28|            NextSong|      540| paid|2018-09-17 06:59:53|\n",
      "|2018-10-08 21:05:41|            NextSong|      540| paid|2018-09-17 06:59:53|\n",
      "|2018-10-08 21:09:38|            NextSong|      540| paid|2018-09-17 06:59:53|\n",
      "|2018-10-08 21:10:30|           Downgrade|      540| paid|2018-09-17 06:59:53|\n",
      "|2018-10-08 21:10:31|              Cancel|      540| paid|2018-09-17 06:59:53|\n",
      "|2018-10-08 21:10:46|Cancellation Conf...|      540| paid|2018-09-17 06:59:53|\n",
      "+-------------------+--------------------+---------+-----+-------------------+\n",
      "\n"
     ]
    }
   ],
   "source": [
    "df.where((df.userId==32) &\n",
    "         (df.timestamp>'2018-10-08 19:10:46')).sort('ts').select('timestamp', 'page','sessionId', 'level', 'registration_ts').show(100)"
   ]
  },
  {
   "cell_type": "code",
   "execution_count": 27,
   "metadata": {},
   "outputs": [
    {
     "name": "stdout",
     "output_type": "stream",
     "text": [
      "+--------+-------------------+------+---------+-----+-----+\n",
      "|    page|          timestamp|userId|sessionId|level|churn|\n",
      "+--------+-------------------+------+---------+-----+-----+\n",
      "|NextSong|2018-10-01 00:01:57|    30|       29| paid|false|\n",
      "|NextSong|2018-10-01 00:03:00|     9|        8| free|false|\n",
      "|NextSong|2018-10-01 00:06:34|    30|       29| paid|false|\n",
      "|NextSong|2018-10-01 00:06:56|     9|        8| free|false|\n",
      "|NextSong|2018-10-01 00:11:16|    30|       29| paid|false|\n",
      "+--------+-------------------+------+---------+-----+-----+\n",
      "only showing top 5 rows\n",
      "\n"
     ]
    }
   ],
   "source": [
    "churn_users = df.where(df.page=='Cancellation Confirmation').select('userId').toPandas().userId.tolist()\n",
    "\n",
    "df = df.withColumn('churn', df.userId.isin(churn_users))\n",
    "df.select('page', 'timestamp', 'userId', 'sessionId', 'level', 'churn').show(5)"
   ]
  },
  {
   "cell_type": "code",
   "execution_count": 28,
   "metadata": {},
   "outputs": [
    {
     "data": {
      "image/png": "[encoded data removed]",
      "text/plain": [
       "<matplotlib.figure.Figure at 0x7fac6d33af60>"
      ]
     },
     "metadata": {
      "needs_background": "light"
     },
     "output_type": "display_data"
    }
   ],
   "source": [
    "plt.figure(figsize=(8, 6))\n",
    "plot_value_count(df.where(~df.churn), 'userId', page='NextSong')\n",
    "plot_value_count(df.where(df.churn), 'userId', page='NextSong')"
   ]
  },
  {
   "cell_type": "markdown",
   "metadata": {},
   "source": [
    "We can see clearly that churn users do not go through lot of songs as compared to other users."
   ]
  },
  {
   "cell_type": "code",
   "execution_count": 29,
   "metadata": {},
   "outputs": [
    {
     "data": {
      "image/png": "[encoded data removed]",
      "text/plain": [
       "<matplotlib.figure.Figure at 0x7fac6d3cf358>"
      ]
     },
     "metadata": {
      "needs_background": "light"
     },
     "output_type": "display_data"
    }
   ],
   "source": [
    "plt.figure(figsize=(8, 6))\n",
    "plot_value_count(df.where(~df.churn), 'userId', page='Add Friend')\n",
    "plot_value_count(df.where(df.churn), 'userId', page='Add Friend')"
   ]
  },
  {
   "cell_type": "markdown",
   "metadata": {},
   "source": [
    "We see a remarkable difference between users who churn out and others.The churn users tend to add way more friends, giving a hint of user traits who might churn away."
   ]
  },
  {
   "cell_type": "code",
   "execution_count": 30,
   "metadata": {},
   "outputs": [
    {
     "data": {
      "image/png": "[encoded data removed]",
      "text/plain": [
       "<matplotlib.figure.Figure at 0x7faca7d2bc18>"
      ]
     },
     "metadata": {
      "needs_background": "light"
     },
     "output_type": "display_data"
    }
   ],
   "source": [
    "plt.figure(figsize=(8, 6))\n",
    "plot_value_count(df.where(~df.churn), 'userId', page='Downgrade')\n",
    "plot_value_count(df.where(df.churn), 'userId', page='Downgrade')"
   ]
  },
  {
   "cell_type": "markdown",
   "metadata": {},
   "source": [
    "More number of downgrades suggest user is likely to stay, which is indicative of the fact that user engagement is on."
   ]
  },
  {
   "cell_type": "code",
   "execution_count": 31,
   "metadata": {},
   "outputs": [
    {
     "data": {
      "image/png": "[encoded data removed]",
      "text/plain": [
       "<matplotlib.figure.Figure at 0x7fac6d34ba20>"
      ]
     },
     "metadata": {
      "needs_background": "light"
     },
     "output_type": "display_data"
    }
   ],
   "source": [
    "\n",
    "plt.figure(figsize=(8, 6))\n",
    "plot_value_count(df.where(~df.churn), 'userId', page='Add to Playlist')\n",
    "plot_value_count(df.where(df.churn), 'userId', page='Add to Playlist')"
   ]
  },
  {
   "cell_type": "markdown",
   "metadata": {},
   "source": [
    "More playlists suggest thaht users are going to continue."
   ]
  },
  {
   "cell_type": "code",
   "execution_count": 32,
   "metadata": {},
   "outputs": [
    {
     "data": {
      "text/html": [
       "<div>\n",
       "<style scoped>\n",
       "    .dataframe tbody tr th:only-of-type {\n",
       "        vertical-align: middle;\n",
       "    }\n",
       "\n",
       "    .dataframe tbody tr th {\n",
       "        vertical-align: top;\n",
       "    }\n",
       "\n",
       "    .dataframe thead th {\n",
       "        text-align: right;\n",
       "    }\n",
       "</style>\n",
       "<table border=\"1\" class=\"dataframe\">\n",
       "  <thead>\n",
       "    <tr style=\"text-align: right;\">\n",
       "      <th></th>\n",
       "      <th>churn</th>\n",
       "      <th>gender</th>\n",
       "      <th>count</th>\n",
       "    </tr>\n",
       "  </thead>\n",
       "  <tbody>\n",
       "    <tr>\n",
       "      <th>0</th>\n",
       "      <td>False</td>\n",
       "      <td>M</td>\n",
       "      <td>89</td>\n",
       "    </tr>\n",
       "    <tr>\n",
       "      <th>1</th>\n",
       "      <td>False</td>\n",
       "      <td>F</td>\n",
       "      <td>84</td>\n",
       "    </tr>\n",
       "    <tr>\n",
       "      <th>2</th>\n",
       "      <td>True</td>\n",
       "      <td>F</td>\n",
       "      <td>20</td>\n",
       "    </tr>\n",
       "    <tr>\n",
       "      <th>3</th>\n",
       "      <td>True</td>\n",
       "      <td>M</td>\n",
       "      <td>32</td>\n",
       "    </tr>\n",
       "  </tbody>\n",
       "</table>\n",
       "</div>"
      ],
      "text/plain": [
       "   churn gender  count\n",
       "0  False      M     89\n",
       "1  False      F     84\n",
       "2   True      F     20\n",
       "3   True      M     32"
      ]
     },
     "metadata": {},
     "output_type": "display_data"
    },
    {
     "data": {
      "text/plain": [
       "<matplotlib.axes._subplots.AxesSubplot at 0x7fac6c647c50>"
      ]
     },
     "execution_count": 32,
     "metadata": {},
     "output_type": "execute_result"
    },
    {
     "data": {
      "image/png": "[encoded data removed]",
      "text/plain": [
       "<matplotlib.figure.Figure at 0x7fac6c651668>"
      ]
     },
     "metadata": {
      "needs_background": "light"
     },
     "output_type": "display_data"
    }
   ],
   "source": [
    "df_pd = df.dropDuplicates([\"userId\", \"gender\"]).groupby([\"churn\", \"gender\"]).count().sort(\"churn\").toPandas()\n",
    "display(df_pd.head())\n",
    "sns.barplot(x='churn', y='count', hue='gender', data=df_pd)"
   ]
  },
  {
   "cell_type": "markdown",
   "metadata": {},
   "source": [
    "Male users tend to churn more than female users."
   ]
  },
  {
   "cell_type": "code",
   "execution_count": 33,
   "metadata": {},
   "outputs": [
    {
     "data": {
      "image/png": "[encoded data removed]",
      "text/plain": [
       "<matplotlib.figure.Figure at 0x7fac6c595da0>"
      ]
     },
     "metadata": {
      "needs_background": "light"
     },
     "output_type": "display_data"
    }
   ],
   "source": [
    "\n",
    "plt.figure(figsize=(8, 6))\n",
    "plot_value_count(df.where(~df.churn), 'userId', page='Thumbs Up')\n",
    "plot_value_count(df.where(df.churn), 'userId', page='Thumbs Up')"
   ]
  },
  {
   "cell_type": "markdown",
   "metadata": {},
   "source": [
    "More thumbs up suggest users are happy and engaged and less churn."
   ]
  },
  {
   "cell_type": "code",
   "execution_count": 34,
   "metadata": {},
   "outputs": [
    {
     "data": {
      "image/png": "[encoded data removed]",
      "text/plain": [
       "<matplotlib.figure.Figure at 0x7fac6c54ff60>"
      ]
     },
     "metadata": {
      "needs_background": "light"
     },
     "output_type": "display_data"
    }
   ],
   "source": [
    "plt.figure(figsize=(8, 6))\n",
    "plot_value_count(df.where(~df.churn), 'userId', page='Thumbs Down')\n",
    "plot_value_count(df.where(df.churn), 'userId', page='Thumbs Down')"
   ]
  },
  {
   "cell_type": "markdown",
   "metadata": {},
   "source": [
    "Surprisingly churn user doesn't have large thumbs down as i was expecting. Maybe it again the engagement factor playing a role here."
   ]
  },
  {
   "cell_type": "code",
   "execution_count": 35,
   "metadata": {},
   "outputs": [
    {
     "data": {
      "image/png": "[encoded data removed]",
      "text/plain": [
       "<matplotlib.figure.Figure at 0x7fac6c55ddd8>"
      ]
     },
     "metadata": {
      "needs_background": "light"
     },
     "output_type": "display_data"
    }
   ],
   "source": [
    "plt.figure(figsize=(8, 6))\n",
    "plot_value_count(df.where(~df.churn), 'sessionId', page='NextSong')\n",
    "plot_value_count(df.where(df.churn), 'sessionId', page='NextSong')"
   ]
  },
  {
   "cell_type": "markdown",
   "metadata": {},
   "source": [
    "Non churn users tend to listen songs for long in a session."
   ]
  },
  {
   "cell_type": "code",
   "execution_count": 36,
   "metadata": {},
   "outputs": [
    {
     "data": {
      "image/png": "[encoded data removed]",
      "text/plain": [
       "<matplotlib.figure.Figure at 0x7fac6c312d30>"
      ]
     },
     "metadata": {
      "needs_background": "light"
     },
     "output_type": "display_data"
    }
   ],
   "source": [
    "plt.figure(figsize=(8, 6))\n",
    "plot_value_count(df.where(~df.churn), 'sessionId', page='Roll Advert')\n",
    "plot_value_count(df.where(df.churn), 'sessionId', page='Roll Advert')"
   ]
  },
  {
   "cell_type": "code",
   "execution_count": 37,
   "metadata": {},
   "outputs": [
    {
     "data": {
      "image/png": "[encoded data removed]",
      "text/plain": [
       "<matplotlib.figure.Figure at 0x7fac6c3c7518>"
      ]
     },
     "metadata": {
      "needs_background": "light"
     },
     "output_type": "display_data"
    }
   ],
   "source": [
    "plt.figure(figsize=(8, 6))\n",
    "plot_value_count(df.where(~df.churn), 'sessionId', page='Logout')\n",
    "plot_value_count(df.where(df.churn), 'sessionId', page='Logout')"
   ]
  },
  {
   "cell_type": "markdown",
   "metadata": {},
   "source": [
    "more number of songs played by non-churn users as exepcted."
   ]
  },
  {
   "cell_type": "code",
   "execution_count": 38,
   "metadata": {},
   "outputs": [
    {
     "data": {
      "image/png": "[encoded data removed]",
      "text/plain": [
       "<matplotlib.figure.Figure at 0x7fac6c67be48>"
      ]
     },
     "metadata": {
      "needs_background": "light"
     },
     "output_type": "display_data"
    }
   ],
   "source": [
    "plt.figure(figsize=(8, 6))\n",
    "plot_value_count(df.where(~df.churn), 'userId', page='Help')\n",
    "plot_value_count(df.where(df.churn), 'userId', page='Help')"
   ]
  },
  {
   "cell_type": "markdown",
   "metadata": {},
   "source": [
    "More help pages suggest users are trying to engage more and hence less churn."
   ]
  },
  {
   "cell_type": "code",
   "execution_count": 39,
   "metadata": {
    "scrolled": true
   },
   "outputs": [
    {
     "data": {
      "image/png": "[encoded data removed]",
      "text/plain": [
       "<matplotlib.figure.Figure at 0x7fac6c6cd278>"
      ]
     },
     "metadata": {
      "needs_background": "light"
     },
     "output_type": "display_data"
    }
   ],
   "source": [
    "plt.figure(figsize=(8, 6))\n",
    "#no_churn_song_counts = plot_field_count_dist(df.where(~df.churn), 'userId', page='Cancel')\n",
    "plot_value_count(df.where(df.churn), 'userId', page='Cancel')"
   ]
  },
  {
   "cell_type": "markdown",
   "metadata": {},
   "source": [
    "Cancel page was used only churn users."
   ]
  },
  {
   "cell_type": "markdown",
   "metadata": {},
   "source": [
    "# Feature Engineering\n",
    "Once you've familiarized yourself with the data, build out the features you find promising to train your model on. To work with the full dataset, you can follow the following steps.\n",
    "- Write a script to extract the necessary features from the smaller subset of data\n",
    "- Ensure that your script is scalable, using the best practices discussed in Lesson 3\n",
    "- Try your script on the full data set, debugging your script if necessary\n",
    "\n"
   ]
  },
  {
   "cell_type": "markdown",
   "metadata": {},
   "source": [
    "Except for Cancel, most of the page entries seems useful, so i will try to keep the maximum of the lot in my features.Will try to see the impact of downgrade features on the final result. "
   ]
  },
  {
   "cell_type": "code",
   "execution_count": 5,
   "metadata": {},
   "outputs": [],
   "source": [
    "def build_features(df):\n",
    "    \"\"\"\n",
    "    Build the feature set for given dataframe.\n",
    "    \n",
    "    Arguments:\n",
    "        df : input dataframe\n",
    "\n",
    "    \"\"\"\n",
    "    df = df.filter(df.userId != \"\")\n",
    "    df = df.dropna(how =\"any\", subset =[\"userId\", \"sessionId\"])\n",
    "    \n",
    "    distinct_pages = df.select('page').distinct().collect()\n",
    "    distinct_pages = [row['page'] for row in distinct_pages]\n",
    "    \n",
    "    features = df.groupby('userId').pivot('page', distinct_pages).count().sort('userId')\n",
    "    \n",
    "    \n",
    "    # As i was gettting accuracy and F1-score of 1, I am trying to remove Cancel page as feature\n",
    "    features = features.drop('Cancel')\n",
    "    features = features.drop('Downgrade')\n",
    "    features = features.drop('Submit Downgrade')\n",
    "\n",
    "    \n",
    "    features = features.fillna(0)\n",
    "    features = features.withColumnRenamed('Cancellation Confirmation', 'churn')\n",
    "    \n",
    "    songsPlayed = df.where(col('song')!='null').groupby(\"userId\").agg(count(col('song')).alias('SongsPlayed')).sort('userId')\n",
    "    features = features.join(songsPlayed, on='userId')\n",
    "    \n",
    "    session_counts = df.groupby('userId').agg(sf.countDistinct('sessionId').alias('session_count')).sort('userId')\n",
    "    features = features.join(session_counts, on='userId')\n",
    "    \n",
    "    genders = df.select('userId', sf.when(sf.col('gender')=='F', 0).otherwise(1).alias('genders')).distinct().sort('userId')\n",
    "    features = features.join(genders, on='userId')\n",
    "    \n",
    "    return features\n",
    "\n",
    "    \n",
    "    \n",
    "    \n",
    "    \n",
    "    \n",
    "    \n",
    "    "
   ]
  },
  {
   "cell_type": "code",
   "execution_count": 6,
   "metadata": {},
   "outputs": [],
   "source": [
    "temp_df = spark.read.json('mini_sparkify_event_data.json')\n"
   ]
  },
  {
   "cell_type": "code",
   "execution_count": 7,
   "metadata": {},
   "outputs": [
    {
     "name": "stdout",
     "output_type": "stream",
     "text": [
      "+------+----------------+-----------+----+---------+-----------+------+-------------+-----+-----+--------+---------------+----------+--------+---------+----+-------+-----+--------------+-----------+-------------+-------+\n",
      "|userId|Submit Downgrade|Thumbs Down|Home|Downgrade|Roll Advert|Logout|Save Settings|churn|About|Settings|Add to Playlist|Add Friend|NextSong|Thumbs Up|Help|Upgrade|Error|Submit Upgrade|SongsPlayed|session_count|genders|\n",
      "+------+----------------+-----------+----+---------+-----------+------+-------------+-----+-----+--------+---------------+----------+--------+---------+----+-------+-----+--------------+-----------+-------------+-------+\n",
      "|    10|               0|          4|  30|        7|          1|    11|            1|    0|    2|       7|              9|        12|     673|       37|   1|      0|    0|             0|        673|            6|      1|\n",
      "|   100|               1|         27| 105|       30|         25|    35|            5|    0|   12|      11|             61|        49|    2682|      148|  18|      1|    3|             1|       2682|           35|      1|\n",
      "|100001|               0|          2|  11|        0|         14|     7|            0|    1|    0|       1|              3|         2|     133|        8|   1|      2|    1|             0|        133|            4|      0|\n",
      "+------+----------------+-----------+----+---------+-----------+------+-------------+-----+-----+--------+---------------+----------+--------+---------+----+-------+-----+--------------+-----------+-------------+-------+\n",
      "only showing top 3 rows\n",
      "\n"
     ]
    }
   ],
   "source": [
    "outputFeatures = build_features(temp_df)\n",
    "outputFeatures.show(3)"
   ]
  },
  {
   "cell_type": "markdown",
   "metadata": {},
   "source": [
    "# Modeling\n",
    "Split the full dataset into train, test, and validation sets. Test out several of the machine learning methods you learned. Evaluate the accuracy of the various models, tuning parameters as necessary. Determine your winning model based on test accuracy and report results on the validation set. Since the churned users are a fairly small subset, I suggest using F1 score as the metric to optimize."
   ]
  },
  {
   "cell_type": "markdown",
   "metadata": {},
   "source": [
    "# Implementation\n",
    "\n",
    "split datest into train, validation and test sets.\n",
    "\n",
    "train model using training dataset.We will try LogisticRegression RandomForestClassifier  GBTClassifier models.\n",
    "\n",
    "tune model.\n",
    "\n",
    "Pick best model selected based on validation dataset."
   ]
  },
  {
   "cell_type": "code",
   "execution_count": 8,
   "metadata": {},
   "outputs": [
    {
     "name": "stdout",
     "output_type": "stream",
     "text": [
      "+--------------------+-----+\n",
      "|      ScaledFeatures|label|\n",
      "+--------------------+-----+\n",
      "|[0.33333333333333...|    0|\n",
      "|[0.0,0.0666666666...|    0|\n",
      "|[0.0,0.04,0.02631...|    1|\n",
      "|[0.33333333333333...|    1|\n",
      "|[0.33333333333333...|    0|\n",
      "|[0.0,0.0133333333...|    1|\n",
      "|[0.0,0.0133333333...|    1|\n",
      "|[0.0,0.0266666666...|    1|\n",
      "|[0.0,0.0,0.003759...|    1|\n",
      "|[0.33333333333333...|    1|\n",
      "|[0.33333333333333...|    1|\n",
      "|[0.0,0.2266666666...|    0|\n",
      "|[0.0,0.08,0.13157...|    1|\n",
      "|[0.0,0.08,0.10902...|    0|\n",
      "|[0.33333333333333...|    0|\n",
      "|[0.0,0.0266666666...|    0|\n",
      "|[0.0,0.08,0.09022...|    0|\n",
      "|[0.0,0.04,0.06015...|    0|\n",
      "|[0.0,0.16,0.27067...|    0|\n",
      "|[0.0,0.16,0.24812...|    0|\n",
      "+--------------------+-----+\n",
      "only showing top 20 rows\n",
      "\n"
     ]
    }
   ],
   "source": [
    "feature_cols = outputFeatures.drop('userId', 'churn').columns\n",
    "\n",
    "\"\"\"\n",
    "feature_cols = ['Thumbs Down',\n",
    " 'Roll Advert',\n",
    " 'Save Settings',\n",
    " 'Settings',\n",
    " 'Add to Playlist',\n",
    " 'Add Friend',\n",
    " 'NextSong',\n",
    " 'Thumbs Up',\n",
    " 'Help',\n",
    " 'Error',\n",
    " 'SongsPlayed',\n",
    " 'session_count',\n",
    "]\n",
    "\"\"\"\n",
    "\n",
    "\n",
    "outputFeatures = outputFeatures.withColumn(\"label\", outputFeatures[\"churn\"].cast('integer'))\n",
    "assembler = VectorAssembler(inputCols=feature_cols,\\\n",
    "                            outputCol=\"features\")\n",
    "\n",
    "X = assembler.transform(outputFeatures)['features','label']\n",
    "\n",
    "\n",
    "train, rest = X.randomSplit([0.6, 0.4])\n",
    "test, validation = X.randomSplit([0.5, 0.5])\n",
    "\n",
    "scaler = MinMaxScaler(inputCol=\"features\", outputCol=\"ScaledFeatures\")\n",
    "scaler = scaler.fit(train)\n",
    "\n",
    "\n",
    "train = scaler.transform(train)['ScaledFeatures','label']\n",
    "test = scaler.transform(test)['ScaledFeatures','label']\n",
    "validation = scaler.transform(validation)['ScaledFeatures','label']\n",
    "\n",
    "#scaler = Normalizer()\n",
    "\n",
    "train.show()"
   ]
  },
  {
   "cell_type": "code",
   "execution_count": 23,
   "metadata": {},
   "outputs": [],
   "source": [
    "x = train.toPandas().iloc[0]['ScaledFeatures']"
   ]
  },
  {
   "cell_type": "code",
   "execution_count": 24,
   "metadata": {},
   "outputs": [
    {
     "data": {
      "text/plain": [
       "(20, 20)"
      ]
     },
     "execution_count": 24,
     "metadata": {},
     "output_type": "execute_result"
    }
   ],
   "source": [
    "len(x), len(feature_cols)"
   ]
  },
  {
   "cell_type": "code",
   "execution_count": 28,
   "metadata": {},
   "outputs": [],
   "source": [
    "model_lr = LogisticRegression(featuresCol=\"ScaledFeatures\", labelCol=\"label\", maxIter=10, regParam=0.01)\n",
    "model_rf = RandomForestClassifier(featuresCol=\"ScaledFeatures\", labelCol=\"label\")\n",
    "model_gbt = GBTClassifier(featuresCol=\"ScaledFeatures\", labelCol=\"label\")"
   ]
  },
  {
   "cell_type": "code",
   "execution_count": 29,
   "metadata": {},
   "outputs": [
    {
     "name": "stdout",
     "output_type": "stream",
     "text": [
      "Total time:545.8355071544647\n"
     ]
    }
   ],
   "source": [
    "#Fit the model\n",
    "import time\n",
    "\n",
    "start_time= time.time()\n",
    "\n",
    "model_lr = model_lr.fit(train)\n",
    "model_rf = model_rf.fit(train)\n",
    "model_gbt = model_gbt.fit(train)\n",
    "\n",
    "end_time= time.time()\n",
    "\n",
    "print(\"Total time:{}\".format(end_time-start_time))"
   ]
  },
  {
   "cell_type": "code",
   "execution_count": 11,
   "metadata": {},
   "outputs": [],
   "source": [
    "def model_performance(model, test_data, metric = 'accuracy'):\n",
    "    \"\"\" Calculate Model Scores using f1 metric \n",
    "        Input: \n",
    "            model- trained model or pipeline object\n",
    "            metric- the metric used to measure performance\n",
    "            data - data on which performance measurement should be done\n",
    "        Output:\n",
    "            score\n",
    "    \"\"\"\n",
    "    evaluator = MulticlassClassificationEvaluator(metricName = metric)\n",
    "    prediction_result = model.transform(test_data)\n",
    "    # find f1 score\n",
    "    score = evaluator.evaluate(prediction_result)\n",
    "    #return score\n",
    "    return score"
   ]
  },
  {
   "cell_type": "code",
   "execution_count": 30,
   "metadata": {},
   "outputs": [
    {
     "name": "stdout",
     "output_type": "stream",
     "text": [
      "Logistic Regression Classifier Accuracy:0.75\n",
      "Random Forest  Classifier Accuracy:0.8275862068965517\n",
      "GBTClassifier  Classifier Accuracy:0.8793103448275862\n",
      "Logistic Regression Classifier Accuracy:0.7798165137614679\n",
      "Random Forest  Classifier Accuracy:0.8715596330275229\n",
      "GBTClassifier  Classifier Accuracy:0.8532110091743119\n"
     ]
    }
   ],
   "source": [
    "#Accuracy score\n",
    "print(\"Logistic Regression Classifier Accuracy:{}\".format(model_performance(model_lr, test)))\n",
    "print(\"Random Forest  Classifier Accuracy:{}\".format(model_performance(model_rf, test)))\n",
    "print(\"GBTClassifier  Classifier Accuracy:{}\".format(model_performance(model_gbt, test)))\n",
    "\n",
    "#Validation set\n",
    "print(\"Logistic Regression Classifier Accuracy:{}\".format(model_performance(model_lr, validation)))\n",
    "print(\"Random Forest  Classifier Accuracy:{}\".format(model_performance(model_rf, validation)))\n",
    "print(\"GBTClassifier  Classifier Accuracy:{}\".format(model_performance(model_gbt, validation)))"
   ]
  },
  {
   "cell_type": "code",
   "execution_count": 31,
   "metadata": {},
   "outputs": [
    {
     "name": "stdout",
     "output_type": "stream",
     "text": [
      "Logistic Regression Classifier F1-Score:0.67100654789097\n",
      "Random Forest  Classifier F1-Score:0.791101465002713\n",
      "GBTClassifier  Classifier F1-Score:0.8700181159420288\n",
      "Logistic Regression Classifier F1-Score:0.7065984474241355\n",
      "Random Forest  Classifier F1-Score:0.848297080003946\n",
      "GBTClassifier  Classifier F1-Score:0.8478891139441599\n"
     ]
    }
   ],
   "source": [
    "#F1-Score\n",
    "print(\"Logistic Regression Classifier F1-Score:{}\".format(model_performance(model_lr, test, 'f1')))\n",
    "print(\"Random Forest  Classifier F1-Score:{}\".format(model_performance(model_rf, test, 'f1')))\n",
    "print(\"GBTClassifier  Classifier F1-Score:{}\".format(model_performance(model_gbt, test, 'f1')))\n",
    "\n",
    "#Validation set\n",
    "print(\"Logistic Regression Classifier F1-Score:{}\".format(model_performance(model_lr, validation, 'f1')))\n",
    "print(\"Random Forest  Classifier F1-Score:{}\".format(model_performance(model_rf, validation, 'f1')))\n",
    "print(\"GBTClassifier  Classifier F1-Score:{}\".format(model_performance(model_gbt, validation, 'f1')))"
   ]
  },
  {
   "cell_type": "markdown",
   "metadata": {},
   "source": [
    "# Refinements\n",
    "We can try to refine the params for the models and see if they behave  better. \n",
    "We will use CrossValidator here, to find out the best model with best hyperparameters.\n",
    "\n",
    "Also we will record the impact of including \"downgrade\" related features here.Below are the accuracy and F1 score without Downgrade features:\n",
    "\n",
    "TEST:\n",
    "\n",
    "Logistic Regression Classifier Accuracy:0.8303571428571429\n",
    "\n",
    "Random Forest  Classifier Accuracy:0.8571428571428571\n",
    "\n",
    "GBTClassifier  Classifier Accuracy:0.8482142857142857\n",
    "\n",
    "\n",
    "VALIDATION:\n",
    "\n",
    "Logistic Regression Classifier Accuracy:0.7168141592920354\n",
    "\n",
    "Random Forest  Classifier Accuracy:0.8141592920353983\n",
    "\n",
    "GBTClassifier  Classifier Accuracy:0.8230088495575221\n",
    "\n",
    "\n",
    "TEST:\n",
    "\n",
    "Logistic Regression Classifier F1-Score:0.7533972125435541\n",
    "\n",
    "Random Forest  Classifier F1-Score:0.8108525138228109\n",
    "\n",
    "GBTClassifier  Classifier F1-Score:0.8549425487784731\n",
    "\n",
    "\n",
    "VALIDATION:\n",
    "\n",
    "Logistic Regression Classifier F1-Score:0.6071490543119902\n",
    "\n",
    "Random Forest  Classifier F1-Score:0.7864587990141679\n",
    "\n",
    "GBTClassifier  Classifier F1-Score:0.8257966222567993\n",
    "\n",
    "\n",
    "Metrics after applying crossvalidator. We see adecline in metrics performance after cross vallidator.\n",
    "This needs to be validated by applying the same process on lalrge dataset.\n",
    "\n",
    "CROSSVALIDATOR:\n",
    "\n",
    "Logistic Regression Classifier Accuracy:0.7079646017699115\n",
    "\n",
    "Logistic Regression Classifier F1-Score:0.5869136594983722\n",
    "\n",
    "\n",
    "Random Forest Classifier Accuracy:0.8108108108108109\n",
    "\n",
    "Random Forest Classifier F1-Score:0.7690706749530278\n",
    "\n",
    "GBTClassifiert Classifier Accuracy:0.7657657657657657\n",
    "\n",
    "GBTClassifier Classifier F1-Score:0.7185411217669281\n",
    "\n",
    "\n"
   ]
  },
  {
   "cell_type": "code",
   "execution_count": 30,
   "metadata": {},
   "outputs": [
    {
     "name": "stdout",
     "output_type": "stream",
     "text": [
      "Total time:1528.9042880535126\n"
     ]
    }
   ],
   "source": [
    "start_time= time.time()\n",
    "lr = LogisticRegression(featuresCol=\"ScaledFeatures\", labelCol=\"label\")\n",
    "paramGrid = ParamGridBuilder() \\\n",
    "    .addGrid(lr.elasticNetParam,[0.1, 0.5]) \\\n",
    "    .addGrid(lr.regParam,[0.05, 0.1]) \\\n",
    "    .build()\n",
    "\n",
    "crossval = CrossValidator(estimator=lr,\n",
    "                          estimatorParamMaps=paramGrid,\n",
    "                          evaluator=MulticlassClassificationEvaluator(),\n",
    "                          numFolds=3)\n",
    "\n",
    "cvModel_lr = crossval.fit(train)\n",
    "end_time= time.time()\n",
    "\n",
    "print(\"Total time:{}\".format(end_time-start_time))"
   ]
  },
  {
   "cell_type": "code",
   "execution_count": 31,
   "metadata": {},
   "outputs": [
    {
     "name": "stdout",
     "output_type": "stream",
     "text": [
      "Logistic Regression Classifier Accuracy:0.7886178861788617\n",
      "Logistic Regression Classifier F1-Score:0.6954175905395418\n"
     ]
    }
   ],
   "source": [
    "print(\"Logistic Regression Classifier Accuracy:{}\".format(model_performance(cvModel_lr, validation)))\n",
    "print(\"Logistic Regression Classifier F1-Score:{}\".format(model_performance(cvModel_lr, validation, 'f1')))"
   ]
  },
  {
   "cell_type": "code",
   "execution_count": 21,
   "metadata": {},
   "outputs": [
    {
     "name": "stdout",
     "output_type": "stream",
     "text": [
      "Total time:3522.19123339653\n"
     ]
    }
   ],
   "source": [
    "start_time= time.time()\n",
    "rf = RandomForestClassifier(featuresCol=\"ScaledFeatures\", labelCol=\"label\")\n",
    "paramGrid =  ParamGridBuilder().addGrid(rf.maxBins, [5, 10, 20]) \\\n",
    "                               .addGrid(rf.maxDepth, [2, 5]) \\\n",
    "                               .addGrid(rf.minInstancesPerNode, [1, 3]) \\\n",
    "                               .addGrid(rf.numTrees, [5, 20, 50]) \\\n",
    "                               .build()\n",
    "\n",
    "crossval = CrossValidator(estimator=rf,\n",
    "                          estimatorParamMaps=paramGrid,\n",
    "                          evaluator=MulticlassClassificationEvaluator(),\n",
    "                          numFolds=3)                          \n",
    "\n",
    "cvModel_rf = crossval.fit(train)\n",
    "end_time= time.time()\n",
    "\n",
    "print(\"Total time:{}\".format(end_time-start_time))"
   ]
  },
  {
   "cell_type": "code",
   "execution_count": 22,
   "metadata": {},
   "outputs": [
    {
     "name": "stdout",
     "output_type": "stream",
     "text": [
      "Random Forest Classifier Accuracy:0.8165137614678899\n",
      "Random Forest Classifier F1-Score:0.7554987061867797\n"
     ]
    }
   ],
   "source": [
    "print(\"Random Forest Classifier Accuracy:{}\".format(model_performance(cvModel_rf, validation)))\n",
    "print(\"Random Forest Classifier F1-Score:{}\".format(model_performance(cvModel_rf, validation, 'f1')))"
   ]
  },
  {
   "cell_type": "code",
   "execution_count": 9,
   "metadata": {},
   "outputs": [
    {
     "name": "stdout",
     "output_type": "stream",
     "text": [
      "Total time:5911.70699095726\n"
     ]
    }
   ],
   "source": [
    "start_time= time.time()\n",
    "gbt = GBTClassifier(featuresCol=\"ScaledFeatures\", labelCol=\"label\")\n",
    "paramGrid =  ParamGridBuilder() \\\n",
    "               .addGrid(gbt.maxIter,[3, 10, 20]) \\\n",
    "               .addGrid(gbt.maxDepth,[2, 4, 6, 8]) \\\n",
    "               .build()\n",
    "\n",
    "crossval = CrossValidator(estimator=gbt,\n",
    "                          estimatorParamMaps=paramGrid,\n",
    "                          evaluator=MulticlassClassificationEvaluator(),\n",
    "                          numFolds=3)                          \n",
    "\n",
    "cvModel_gbt = crossval.fit(train)\n",
    "end_time= time.time()\n",
    "\n",
    "print(\"Total time:{}\".format(end_time-start_time))"
   ]
  },
  {
   "cell_type": "code",
   "execution_count": 12,
   "metadata": {},
   "outputs": [
    {
     "name": "stdout",
     "output_type": "stream",
     "text": [
      "GBTClassifiert Classifier Accuracy:0.7889908256880734\n",
      "GBTClassifier Classifier F1-Score:0.7621740469386731\n"
     ]
    }
   ],
   "source": [
    "print(\"GBTClassifiert Classifier Accuracy:{}\".format(model_performance(cvModel_gbt, validation)))\n",
    "print(\"GBTClassifier Classifier F1-Score:{}\".format(model_performance(cvModel_gbt, validation, 'f1')))"
   ]
  },
  {
   "cell_type": "markdown",
   "metadata": {},
   "source": [
    "We don't see any signifcant imapct from Downgrade feature."
   ]
  },
  {
   "cell_type": "code",
   "execution_count": 24,
   "metadata": {},
   "outputs": [
    {
     "data": {
      "image/png": "[encoded data removed]",
      "text/plain": [
       "<matplotlib.figure.Figure at 0x7f9d4c5818d0>"
      ]
     },
     "metadata": {
      "needs_background": "light"
     },
     "output_type": "display_data"
    }
   ],
   "source": [
    "best_model = cvModel_gbt\n",
    "importance = list(best_model.bestModel.featureImportances.toArray())\n",
    "len(importance), len(feature_cols)\n",
    "y_pos = np.arange(len(feature_cols))\n",
    " \n",
    "plt.barh(y_pos, importance, align='center')\n",
    "plt.yticks(y_pos, feature_cols)\n",
    "plt.xlabel('Importance Score')\n",
    "plt.title('Feature Importances');"
   ]
  },
  {
   "cell_type": "code",
   "execution_count": 26,
   "metadata": {},
   "outputs": [
    {
     "data": {
      "text/plain": [
       "['Submit Downgrade',\n",
       " 'Thumbs Down',\n",
       " 'Home',\n",
       " 'Downgrade',\n",
       " 'Roll Advert',\n",
       " 'Logout',\n",
       " 'Save Settings',\n",
       " 'About',\n",
       " 'Settings',\n",
       " 'Add to Playlist',\n",
       " 'Add Friend',\n",
       " 'NextSong',\n",
       " 'Thumbs Up',\n",
       " 'Help',\n",
       " 'Upgrade',\n",
       " 'Error',\n",
       " 'Submit Upgrade',\n",
       " 'SongsPlayed',\n",
       " 'session_count',\n",
       " 'genders']"
      ]
     },
     "execution_count": 26,
     "metadata": {},
     "output_type": "execute_result"
    }
   ],
   "source": [
    "feature_cols"
   ]
  },
  {
   "cell_type": "markdown",
   "metadata": {},
   "source": [
    "## Conclusion\n",
    "# Summary\n",
    "We developed a model which can predict customer churn. We performed EDA, Feature engineering and created featureset to be used for ML model trainig and validation. We used cross validation and grid search to fine tune our model. However we achieved about 87% accuracy, and 0.84 F1 score with base Random Forest model.\n",
    "\n",
    "# Reflection\n",
    "This project gives exposure to spark environment to analyze a large volume of data.\n",
    "\n",
    "One of the interesting things was to identify the derived features from the page column. This will be  a key takeaway from this project.Exposure to spark to handle big data is another big plus\n",
    "\n",
    "# Improvement\n",
    "There is still lot of scope for improvement here. We have not taken into account some features like user_agent and location which can play a part here.\n",
    "Also I was not able to run this on cloud spark cluster due to time constraints and few platform config issues.\n",
    "\n",
    "Next step will be to develop the model on large data on aws cluster."
   ]
  },
  {
   "cell_type": "markdown",
   "metadata": {},
   "source": [
    "# Final Steps\n",
    "Clean up your code, adding comments and renaming variables to make the code easier to read and maintain. Refer to the Spark Project Overview page and Data Scientist Capstone Project Rubric to make sure you are including all components of the capstone project and meet all expectations. Remember, this includes thorough documentation in a README file in a Github repository, as well as a web app or blog post."
   ]
  },
  {
   "cell_type": "code",
   "execution_count": null,
   "metadata": {},
   "outputs": [],
   "source": []
  }
 ],
 "metadata": {
  "kernelspec": {
   "display_name": "Python 3",
   "language": "python",
   "name": "python3"
  },
  "language_info": {
   "codemirror_mode": {
    "name": "ipython",
    "version": 3
   },
   "file_extension": ".py",
   "mimetype": "text/x-python",
   "name": "python",
   "nbconvert_exporter": "python",
   "pygments_lexer": "ipython3",
   "version": "3.6.3"
  }
 },
 "nbformat": 4,
 "nbformat_minor": 2
}
